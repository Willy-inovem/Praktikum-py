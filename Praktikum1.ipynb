{
  "nbformat": 4,
  "nbformat_minor": 0,
  "metadata": {
    "colab": {
      "provenance": [],
      "authorship_tag": "ABX9TyP5b7l+vjc4ZntBWAk8HMW9",
      "include_colab_link": true
    },
    "kernelspec": {
      "name": "python3",
      "display_name": "Python 3"
    },
    "language_info": {
      "name": "python"
    }
  },
  "cells": [
    {
      "cell_type": "markdown",
      "metadata": {
        "id": "view-in-github",
        "colab_type": "text"
      },
      "source": [
        "<a href=\"https://colab.research.google.com/github/Willy-inovem/Praktikum-py/blob/main/Praktikum1.ipynb\" target=\"_parent\"><img src=\"https://colab.research.google.com/assets/colab-badge.svg\" alt=\"Open In Colab\"/></a>"
      ]
    },
    {
      "cell_type": "code",
      "execution_count": null,
      "metadata": {
        "colab": {
          "base_uri": "https://localhost:8080/"
        },
        "id": "BgKsCqzXbpmv",
        "outputId": "c4aeacad-fab5-4fef-aa4a-9b883bca240d"
      },
      "outputs": [
        {
          "output_type": "stream",
          "name": "stdout",
          "text": [
            "Tipe data variabel 'umur' adalah: <class 'int'>\n",
            "Tipe data variabel 'harga' adalah: <class 'float'>\n",
            "Tipe data variabel 'nama_produk' adalah: <class 'str'>\n",
            "Tipe data variabel 'daftar_angka' adalah: <class 'list'>\n"
          ]
        }
      ],
      "source": [
        "# Membuat variabel dengan tipe data berbeda\n",
        "umur = 25  # Tipe data int (integer)\n",
        "harga = 15000.50  # Tipe data float (floating-point number)\n",
        "nama_produk = \"Laptop\"  # Tipe data str (string)\n",
        "daftar_angka = [1, 2, 3, 4]  # Tipe data list\n",
        "\n",
        "# Menampilkan tipe data dari masing-masing variabel\n",
        "print(\"Tipe data variabel 'umur' adalah:\", type(umur))\n",
        "print(\"Tipe data variabel 'harga' adalah:\", type(harga))\n",
        "print(\"Tipe data variabel 'nama_produk' adalah:\", type(nama_produk))\n",
        "print(\"Tipe data variabel 'daftar_angka' adalah:\", type(daftar_angka))"
      ]
    },
    {
      "cell_type": "code",
      "source": [
        "# Membuat list belanjaan awal\n",
        "list_belanja = [\"beras\", \"minyak\", \"telur\"]\n",
        "print(\"List belanjaan awal:\", list_belanja)\n",
        "\n",
        "# Menambahkan item baru ke dalam list menggunakan fungsi append()\n",
        "list_belanja.append(\"gula\")\n",
        "list_belanja.append(\"kopi\")\n",
        "print(\"List belanjaan setelah ditambahkan item:\", list_belanja)\n",
        "\n",
        "# Menampilkan semua item di dalam list menggunakan perulangan for\n",
        "print(\"\\nDaftar belanjaan:\")\n",
        "for item in list_belanja:\n",
        "    print(item)\n"
      ],
      "metadata": {
        "colab": {
          "base_uri": "https://localhost:8080/"
        },
        "id": "3UPeny7TdCyv",
        "outputId": "2b1fd0bb-8666-4fda-c7f6-35dfc4d1f12f"
      },
      "execution_count": null,
      "outputs": [
        {
          "output_type": "stream",
          "name": "stdout",
          "text": [
            "List belanjaan awal: ['beras', 'minyak', 'telur']\n",
            "List belanjaan setelah ditambahkan item: ['beras', 'minyak', 'telur', 'gula', 'kopi']\n",
            "\n",
            "Daftar belanjaan:\n",
            "beras\n",
            "minyak\n",
            "telur\n",
            "gula\n",
            "kopi\n"
          ]
        }
      ]
    },
    {
      "cell_type": "code",
      "source": [
        "# Membuat dictionary harga belanjaan\n",
        "harga_belanjaan = {\n",
        "    \"beras\": 12000,\n",
        "    \"minyak\": 17000,\n",
        "    \"telur\": 24000,\n",
        "    \"gula\": 15000,\n",
        "    \"kopi\": 20000\n",
        "}\n",
        "\n",
        "# Menghitung total harga semua belanjaan\n",
        "total_harga = 0\n",
        "for harga in harga_belanjaan.values():\n",
        "    total_harga += harga\n",
        "\n",
        "# Menampilkan total harga\n",
        "print(\"Daftar harga belanjaan:\", harga_belanjaan)\n",
        "print(\"\\nTotal harga seluruh belanjaan adalah:\", total_harga)"
      ],
      "metadata": {
        "colab": {
          "base_uri": "https://localhost:8080/"
        },
        "id": "DF9q5oP7dIn2",
        "outputId": "68df6bb7-9335-468b-d014-07a24e0d86fd"
      },
      "execution_count": null,
      "outputs": [
        {
          "output_type": "stream",
          "name": "stdout",
          "text": [
            "Daftar harga belanjaan: {'beras': 12000, 'minyak': 17000, 'telur': 24000, 'gula': 15000, 'kopi': 20000}\n",
            "\n",
            "Total harga seluruh belanjaan adalah: 88000\n"
          ]
        }
      ]
    },
    {
      "cell_type": "code",
      "source": [
        "import math\n",
        "\n",
        "# Membuat fungsi untuk menghitung luas dan keliling lingkaran\n",
        "def hitung_lingkaran(jari_jari):\n",
        "    luas = math.pi * jari_jari**2\n",
        "    keliling = 2 * math.pi * jari_jari\n",
        "    return luas, keliling\n",
        "\n",
        "# Menggunakan fungsi dengan jari-jari 7\n",
        "jari_jari_lingkaran = 7\n",
        "luas_lingkaran, keliling_lingkaran = hitung_lingkaran(jari_jari_lingkaran)\n",
        "\n",
        "# Menampilkan hasil\n",
        "print(\"Luas lingkaran dengan jari-jari\", jari_jari_lingkaran, \"adalah:\", luas_lingkaran)\n",
        "print(\"Keliling lingkaran dengan jari-jari\", jari_jari_lingkaran, \"adalah:\", keliling_lingkaran)\n"
      ],
      "metadata": {
        "colab": {
          "base_uri": "https://localhost:8080/"
        },
        "id": "Pwab16-wdQe2",
        "outputId": "7ab12c52-520f-4cb0-bad0-d2f92d81e75c"
      },
      "execution_count": null,
      "outputs": [
        {
          "output_type": "stream",
          "name": "stdout",
          "text": [
            "Luas lingkaran dengan jari-jari 7 adalah: 153.93804002589985\n",
            "Keliling lingkaran dengan jari-jari 7 adalah: 43.982297150257104\n"
          ]
        }
      ]
    },
    {
      "cell_type": "code",
      "source": [
        "# Meminta pengguna memasukkan usia\n",
        "try:\n",
        "    usia_pengguna = int(input(\"Masukkan usia Anda: \"))\n",
        "\n",
        "    # Menentukan kategori usia menggunakan percabangan\n",
        "    if 0 <= usia_pengguna <= 13:\n",
        "        kategori = \"Anak\"\n",
        "    elif 14 <= usia_pengguna <= 24:\n",
        "        kategori = \"Remaja\"\n",
        "    elif 25 <= usia_pengguna <= 49:\n",
        "        kategori = \"Dewasa\"\n",
        "    elif usia_pengguna >= 50:\n",
        "        kategori = \"Lansia\"\n",
        "    else:\n",
        "        kategori = \"Usia tidak valid\"\n",
        "\n",
        "    # Menampilkan hasil\n",
        "    print(\"Anda termasuk kategori:\", kategori)\n",
        "\n",
        "except ValueError:\n",
        "    print(\"Input yang Anda masukkan tidak valid. Mohon masukkan angka.\")"
      ],
      "metadata": {
        "colab": {
          "base_uri": "https://localhost:8080/"
        },
        "id": "xqt_pZ8sdUJ5",
        "outputId": "3e655a61-019d-47c0-d1ba-60cbcee4effd"
      },
      "execution_count": null,
      "outputs": [
        {
          "output_type": "stream",
          "name": "stdout",
          "text": [
            "Masukkan usia Anda: 51\n",
            "Anda termasuk kategori: Lansia\n"
          ]
        }
      ]
    }
  ]
}